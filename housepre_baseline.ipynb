{
 "cells": [
  {
   "cell_type": "code",
   "execution_count": 2,
   "metadata": {},
   "outputs": [
    {
     "name": "stderr",
     "output_type": "stream",
     "text": [
      "C:\\Users\\zdq\\Anaconda3\\lib\\site-packages\\sklearn\\ensemble\\weight_boosting.py:29: DeprecationWarning: numpy.core.umath_tests is an internal NumPy module and should not be imported. It will be removed in a future NumPy release.\n",
      "  from numpy.core.umath_tests import inner1d\n"
     ]
    }
   ],
   "source": [
    "import numpy as np\n",
    "import pandas as pd\n",
    "import matplotlib.pyplot as plt\n",
    "##下面这几个在这里可有可有无，后续stacking集成的时候会用到\n",
    "from sklearn.linear_model import Ridge\n",
    "from sklearn.model_selection import cross_val_score\n",
    "from sklearn.ensemble import RandomForestRegressor\n",
    "from sklearn.ensemble import BaggingRegressor\n",
    "from sklearn.ensemble import AdaBoostRegressor\n",
    "from xgboost import XGBRegressor\n"
   ]
  },
  {
   "cell_type": "code",
   "execution_count": 3,
   "metadata": {},
   "outputs": [],
   "source": [
    "# step1 检查源数据集，读入数据，将csv数据转换为DataFrame数据\n",
    "train_df = pd.read_csv('./data.csv',index_col = 0)\n",
    "test_df = pd.read_csv('./test.csv',index_col = 0)\n"
   ]
  },
  {
   "cell_type": "code",
   "execution_count": 4,
   "metadata": {},
   "outputs": [],
   "source": [
    "# step2 合并数据，进行数据预处理\n",
    "prices = pd.DataFrame({'price':train_df['SalePrice'],'log(price+1)':np.log1p(train_df['SalePrice'])})"
   ]
  },
  {
   "cell_type": "code",
   "execution_count": 5,
   "metadata": {},
   "outputs": [],
   "source": [
    "y_train = np.log1p(train_df.pop('SalePrice'))\n",
    "all_df = pd.concat((train_df,test_df),axis = 0)"
   ]
  },
  {
   "cell_type": "code",
   "execution_count": 7,
   "metadata": {},
   "outputs": [
    {
     "name": "stdout",
     "output_type": "stream",
     "text": [
      "int64\n",
      "object\n",
      "20     1079\n",
      "60      575\n",
      "50      287\n",
      "120     182\n",
      "30      139\n",
      "160     128\n",
      "70      128\n",
      "80      118\n",
      "90      109\n",
      "190      61\n",
      "85       48\n",
      "75       23\n",
      "45       18\n",
      "180      17\n",
      "40        6\n",
      "150       1\n",
      "Name: MSSubClass, dtype: int64\n",
      "    MSSubClass_120  MSSubClass_150  MSSubClass_160  MSSubClass_180  \\\n",
      "Id                                                                   \n",
      "1                0               0               0               0   \n",
      "2                0               0               0               0   \n",
      "3                0               0               0               0   \n",
      "4                0               0               0               0   \n",
      "5                0               0               0               0   \n",
      "\n",
      "    MSSubClass_190  MSSubClass_20  MSSubClass_30  MSSubClass_40  \\\n",
      "Id                                                                \n",
      "1                0              0              0              0   \n",
      "2                0              1              0              0   \n",
      "3                0              0              0              0   \n",
      "4                0              0              0              0   \n",
      "5                0              0              0              0   \n",
      "\n",
      "    MSSubClass_45  MSSubClass_50  MSSubClass_60  MSSubClass_70  MSSubClass_75  \\\n",
      "Id                                                                              \n",
      "1               0              0              1              0              0   \n",
      "2               0              0              0              0              0   \n",
      "3               0              0              1              0              0   \n",
      "4               0              0              0              1              0   \n",
      "5               0              0              1              0              0   \n",
      "\n",
      "    MSSubClass_80  MSSubClass_85  MSSubClass_90  \n",
      "Id                                               \n",
      "1               0              0              0  \n",
      "2               0              0              0  \n",
      "3               0              0              0  \n",
      "4               0              0              0  \n",
      "5               0              0              0  \n",
      "    LotFrontage  LotArea  OverallQual  OverallCond  YearBuilt  YearRemodAdd  \\\n",
      "Id                                                                            \n",
      "1          65.0     8450            7            5       2003          2003   \n",
      "2          80.0     9600            6            8       1976          1976   \n",
      "3          68.0    11250            7            5       2001          2002   \n",
      "4          60.0     9550            7            5       1915          1970   \n",
      "5          84.0    14260            8            5       2000          2000   \n",
      "\n",
      "    MasVnrArea  BsmtFinSF1  BsmtFinSF2  BsmtUnfSF          ...            \\\n",
      "Id                                                         ...             \n",
      "1        196.0       706.0         0.0      150.0          ...             \n",
      "2          0.0       978.0         0.0      284.0          ...             \n",
      "3        162.0       486.0         0.0      434.0          ...             \n",
      "4          0.0       216.0         0.0      540.0          ...             \n",
      "5        350.0       655.0         0.0      490.0          ...             \n",
      "\n",
      "    SaleType_ConLw  SaleType_New  SaleType_Oth  SaleType_WD  \\\n",
      "Id                                                            \n",
      "1                0             0             0            1   \n",
      "2                0             0             0            1   \n",
      "3                0             0             0            1   \n",
      "4                0             0             0            1   \n",
      "5                0             0             0            1   \n",
      "\n",
      "    SaleCondition_Abnorml  SaleCondition_AdjLand  SaleCondition_Alloca  \\\n",
      "Id                                                                       \n",
      "1                       0                      0                     0   \n",
      "2                       0                      0                     0   \n",
      "3                       0                      0                     0   \n",
      "4                       1                      0                     0   \n",
      "5                       0                      0                     0   \n",
      "\n",
      "    SaleCondition_Family  SaleCondition_Normal  SaleCondition_Partial  \n",
      "Id                                                                     \n",
      "1                      0                     1                      0  \n",
      "2                      0                     1                      0  \n",
      "3                      0                     1                      0  \n",
      "4                      0                     0                      0  \n",
      "5                      0                     1                      0  \n",
      "\n",
      "[5 rows x 303 columns]\n"
     ]
    }
   ],
   "source": [
    "# step3 变量转化\n",
    "print(all_df['MSSubClass'].dtypes)\n",
    "all_df['MSSubClass'] = all_df['MSSubClass'].astype(str)\n",
    "print(all_df['MSSubClass'].dtypes)\n",
    "print(all_df['MSSubClass'].value_counts())\n",
    "# 把category的变量转变成numerical表达形式\n",
    "# get_dummies方法可以帮你一键one-hot\n",
    "print(pd.get_dummies(all_df['MSSubClass'],prefix = 'MSSubClass').head())\n",
    "all_dummy_df = pd.get_dummies(all_df)\n",
    "print(all_dummy_df.head())"
   ]
  },
  {
   "cell_type": "code",
   "execution_count": 9,
   "metadata": {},
   "outputs": [
    {
     "name": "stdout",
     "output_type": "stream",
     "text": [
      "LotFrontage     486\n",
      "GarageYrBlt     159\n",
      "MasVnrArea       23\n",
      "BsmtHalfBath      2\n",
      "BsmtFullBath      2\n",
      "BsmtFinSF2        1\n",
      "GarageCars        1\n",
      "TotalBsmtSF       1\n",
      "BsmtUnfSF         1\n",
      "GarageArea        1\n",
      "BsmtFinSF1        1\n",
      "dtype: int64\n",
      "LotFrontage        69.305795\n",
      "LotArea         10168.114080\n",
      "OverallQual         6.089072\n",
      "OverallCond         5.564577\n",
      "YearBuilt        1971.312778\n",
      "YearRemodAdd     1984.264474\n",
      "MasVnrArea        102.201312\n",
      "BsmtFinSF1        441.423235\n",
      "BsmtFinSF2         49.582248\n",
      "BsmtUnfSF         560.772104\n",
      "dtype: float64\n",
      "0\n"
     ]
    }
   ],
   "source": [
    "# 处理好numerical变量\n",
    "print(all_dummy_df.isnull().sum().sort_values(ascending = False).head(11))\n",
    "# 我们这里用mean填充，也就是均值填充\n",
    "mean_cols = all_dummy_df.mean()\n",
    "print(mean_cols.head(10))\n",
    "all_dummy_df = all_dummy_df.fillna(mean_cols)\n",
    "print(all_dummy_df.isnull().sum().sum())\n"
   ]
  },
  {
   "cell_type": "code",
   "execution_count": 10,
   "metadata": {},
   "outputs": [
    {
     "name": "stdout",
     "output_type": "stream",
     "text": [
      "Index(['LotFrontage', 'LotArea', 'OverallQual', 'OverallCond', 'YearBuilt',\n",
      "       'YearRemodAdd', 'MasVnrArea', 'BsmtFinSF1', 'BsmtFinSF2', 'BsmtUnfSF',\n",
      "       'TotalBsmtSF', '1stFlrSF', '2ndFlrSF', 'LowQualFinSF', 'GrLivArea',\n",
      "       'BsmtFullBath', 'BsmtHalfBath', 'FullBath', 'HalfBath', 'BedroomAbvGr',\n",
      "       'KitchenAbvGr', 'TotRmsAbvGrd', 'Fireplaces', 'GarageYrBlt',\n",
      "       'GarageCars', 'GarageArea', 'WoodDeckSF', 'OpenPorchSF',\n",
      "       'EnclosedPorch', '3SsnPorch', 'ScreenPorch', 'PoolArea', 'MiscVal',\n",
      "       'MoSold', 'YrSold'],\n",
      "      dtype='object')\n"
     ]
    }
   ],
   "source": [
    "# 标准化numerical数据\n",
    "numeric_cols = all_df.columns[all_df.dtypes != 'object']\n",
    "print(numeric_cols)\n",
    "numeric_col_means = all_dummy_df.loc[:,numeric_cols].mean()\n",
    "numeric_col_std = all_dummy_df.loc[:,numeric_cols].std()\n",
    "all_dummy_df.loc[:,numeric_cols] = (all_dummy_df.loc[:,numeric_cols] - numeric_col_means) / numeric_col_std\n"
   ]
  },
  {
   "cell_type": "code",
   "execution_count": 11,
   "metadata": {},
   "outputs": [
    {
     "name": "stdout",
     "output_type": "stream",
     "text": [
      "(1460, 303) (1459, 303)\n"
     ]
    }
   ],
   "source": [
    "# step4 建立模型\n",
    "# 把数据处理之后，送回训练集和测试集\n",
    "dummy_train_df = all_dummy_df.loc[train_df.index]\n",
    "dummy_test_df = all_dummy_df.loc[test_df.index]\n",
    "print (dummy_train_df.shape,dummy_test_df.shape)\n"
   ]
  },
  {
   "cell_type": "code",
   "execution_count": 12,
   "metadata": {},
   "outputs": [],
   "source": [
    "# 将DF数据转换成Numpy Array的形式，更好地配合sklearn\n",
    "\n",
    "X_train = dummy_train_df.values\n",
    "X_test = dummy_test_df.values\n"
   ]
  },
  {
   "cell_type": "code",
   "execution_count": 17,
   "metadata": {},
   "outputs": [
    {
     "data": {
      "text/plain": [
       "(1460, 303)"
      ]
     },
     "execution_count": 17,
     "metadata": {},
     "output_type": "execute_result"
    }
   ],
   "source": [
    "X_train.shape"
   ]
  },
  {
   "cell_type": "code",
   "execution_count": 18,
   "metadata": {},
   "outputs": [
    {
     "data": {
      "text/plain": [
       "(1459, 303)"
      ]
     },
     "execution_count": 18,
     "metadata": {},
     "output_type": "execute_result"
    }
   ],
   "source": [
    "X_test.shape"
   ]
  },
  {
   "cell_type": "code",
   "execution_count": 28,
   "metadata": {},
   "outputs": [],
   "source": [
    "y=prices['price']"
   ]
  },
  {
   "cell_type": "code",
   "execution_count": 31,
   "metadata": {},
   "outputs": [
    {
     "data": {
      "text/plain": [
       "Id\n",
       "1       208500\n",
       "2       181500\n",
       "3       223500\n",
       "4       140000\n",
       "5       250000\n",
       "6       143000\n",
       "7       307000\n",
       "8       200000\n",
       "9       129900\n",
       "10      118000\n",
       "11      129500\n",
       "12      345000\n",
       "13      144000\n",
       "14      279500\n",
       "15      157000\n",
       "16      132000\n",
       "17      149000\n",
       "18       90000\n",
       "19      159000\n",
       "20      139000\n",
       "21      325300\n",
       "22      139400\n",
       "23      230000\n",
       "24      129900\n",
       "25      154000\n",
       "26      256300\n",
       "27      134800\n",
       "28      306000\n",
       "29      207500\n",
       "30       68500\n",
       "         ...  \n",
       "1431    192140\n",
       "1432    143750\n",
       "1433     64500\n",
       "1434    186500\n",
       "1435    160000\n",
       "1436    174000\n",
       "1437    120500\n",
       "1438    394617\n",
       "1439    149700\n",
       "1440    197000\n",
       "1441    191000\n",
       "1442    149300\n",
       "1443    310000\n",
       "1444    121000\n",
       "1445    179600\n",
       "1446    129000\n",
       "1447    157900\n",
       "1448    240000\n",
       "1449    112000\n",
       "1450     92000\n",
       "1451    136000\n",
       "1452    287090\n",
       "1453    145000\n",
       "1454     84500\n",
       "1455    185000\n",
       "1456    175000\n",
       "1457    210000\n",
       "1458    266500\n",
       "1459    142125\n",
       "1460    147500\n",
       "Name: price, Length: 1460, dtype: int64"
      ]
     },
     "execution_count": 31,
     "metadata": {},
     "output_type": "execute_result"
    }
   ],
   "source": [
    "y"
   ]
  },
  {
   "cell_type": "code",
   "execution_count": 29,
   "metadata": {},
   "outputs": [],
   "source": [
    "#step5 把训练集切分成两部分，80%训练，20%用作测试\n",
    "import xgboost as xgb\n",
    "\n",
    "from sklearn.metrics import mean_squared_error\n",
    "\n",
    "import numpy as np\n",
    "\n",
    "matrix=xgb.DMatrix(data=X_train,label=y)\n",
    "from sklearn.model_selection import train_test_split\n",
    "\n",
    "X_train1,X_test1,y_train1,y_test1=train_test_split(X_train,y,test_size=0.2,random_state=123)"
   ]
  },
  {
   "cell_type": "code",
   "execution_count": 33,
   "metadata": {},
   "outputs": [
    {
     "data": {
      "text/plain": [
       "(1168, 303)"
      ]
     },
     "execution_count": 33,
     "metadata": {},
     "output_type": "execute_result"
    }
   ],
   "source": [
    "X_train1.shape"
   ]
  },
  {
   "cell_type": "code",
   "execution_count": 35,
   "metadata": {},
   "outputs": [
    {
     "data": {
      "text/plain": [
       "(292, 303)"
      ]
     },
     "execution_count": 35,
     "metadata": {},
     "output_type": "execute_result"
    }
   ],
   "source": [
    "X_test1.shape"
   ]
  },
  {
   "cell_type": "code",
   "execution_count": 36,
   "metadata": {},
   "outputs": [
    {
     "data": {
      "text/plain": [
       "(1168,)"
      ]
     },
     "execution_count": 36,
     "metadata": {},
     "output_type": "execute_result"
    }
   ],
   "source": [
    "y_train1.shape"
   ]
  },
  {
   "cell_type": "code",
   "execution_count": 70,
   "metadata": {},
   "outputs": [
    {
     "name": "stdout",
     "output_type": "stream",
     "text": [
      "0.10348741097652386\n"
     ]
    }
   ],
   "source": [
    "#step6 XGBoost模型和调参在这\n",
    "xg_reg=xgb.XGBRegressor(objective='reg:linear',colsample_bytree=0.5,learning_rate=0.02,max_depth=4,alpha=8,n_estimators=800,subsample=0.7,random_state=123)\n",
    "xg_reg.fit(X_train1,y_train1)\n",
    "pred=xg_reg.predict(X_test1)\n",
    "logrmse=np.sqrt(mean_squared_error(np.log(y_test1),np.log(pred)))\n",
    "\n",
    "print(logrmse)"
   ]
  },
  {
   "cell_type": "code",
   "execution_count": 71,
   "metadata": {},
   "outputs": [
    {
     "data": {
      "text/plain": [
       "XGBRegressor(alpha=8, base_score=0.5, booster='gbtree', colsample_bylevel=1,\n",
       "       colsample_bytree=0.5, gamma=0, learning_rate=0.02, max_delta_step=0,\n",
       "       max_depth=4, min_child_weight=1, missing=None, n_estimators=800,\n",
       "       n_jobs=1, nthread=None, objective='reg:linear', random_state=123,\n",
       "       reg_alpha=0, reg_lambda=1, scale_pos_weight=1, seed=None,\n",
       "       silent=True, subsample=0.7)"
      ]
     },
     "execution_count": 71,
     "metadata": {},
     "output_type": "execute_result"
    }
   ],
   "source": [
    "xg_reg.fit(X_train, y)"
   ]
  },
  {
   "cell_type": "code",
   "execution_count": 72,
   "metadata": {},
   "outputs": [],
   "source": [
    "y_final = xg_reg.predict(X_test)"
   ]
  },
  {
   "cell_type": "code",
   "execution_count": 73,
   "metadata": {},
   "outputs": [
    {
     "data": {
      "text/plain": [
       "array([125820.89, 160634.14, 182633.25, ..., 157214.8 , 120481.92,\n",
       "       222009.6 ], dtype=float32)"
      ]
     },
     "execution_count": 73,
     "metadata": {},
     "output_type": "execute_result"
    }
   ],
   "source": [
    "y_final"
   ]
  },
  {
   "cell_type": "code",
   "execution_count": 74,
   "metadata": {},
   "outputs": [
    {
     "name": "stdout",
     "output_type": "stream",
     "text": [
      "     Id      SalePrice\n",
      "0  1461  125820.890625\n",
      "1  1462  160634.140625\n",
      "2  1463  182633.250000\n",
      "3  1464  189562.359375\n",
      "4  1465  186230.718750\n",
      "5  1466  174786.015625\n",
      "6  1467  168471.734375\n",
      "7  1468  164855.500000\n",
      "8  1469  181197.265625\n",
      "9  1470  125115.890625\n"
     ]
    }
   ],
   "source": [
    "#step7 最后提交预测结果\n",
    "submission_df = pd.DataFrame(data = {'Id':test_df.index,'SalePrice':y_final})\n",
    "print (submission_df.head(10))\n",
    "submission_df.to_csv('./submission_xgboost_2.csv',columns = ['Id','SalePrice'],index = False)\n"
   ]
  },
  {
   "cell_type": "code",
   "execution_count": 62,
   "metadata": {},
   "outputs": [],
   "source": [
    "# # xgboost\n",
    "# params = [1,2,3,4,5,6]\n",
    "# test_scores = []\n",
    "# for param in params:\n",
    "#     clf = XGBRegressor(max_depth = param)\n",
    "#     test_score = np.sqrt(-cross_val_score(clf,X_train,y_train,cv = 10,scoring = 'neg_mean_squared_error'))\n",
    "#     test_scores.append(np.mean(test_score))\n",
    "# plt.plot(params,test_scores)\n",
    "# plt.title('max_depth vs CV Error')\n",
    "# plt.show()\n",
    "\n",
    "\n"
   ]
  },
  {
   "cell_type": "code",
   "execution_count": 14,
   "metadata": {},
   "outputs": [],
   "source": [
    "# xgb = XGBRegressor(max_depth = 5)\n",
    "# xgb.fit(X_train, y_train)\n",
    "# y_final = np.expm1(xgb.predict(X_test))"
   ]
  },
  {
   "cell_type": "code",
   "execution_count": 16,
   "metadata": {},
   "outputs": [
    {
     "name": "stdout",
     "output_type": "stream",
     "text": [
      "     Id      SalePrice\n",
      "0  1461  121317.992188\n",
      "1  1462  160514.984375\n",
      "2  1463  184872.671875\n",
      "3  1464  188044.953125\n",
      "4  1465  187002.328125\n",
      "5  1466  176525.343750\n",
      "6  1467  176312.000000\n",
      "7  1468  163346.546875\n",
      "8  1469  190007.890625\n",
      "9  1470  122269.976562\n"
     ]
    }
   ],
   "source": [
    "# submission_df = pd.DataFrame(data = {'Id':test_df.index,'SalePrice':y_final})\n",
    "# print (submission_df.head(10))\n",
    "# submission_df.to_csv('./submission_xgboosting.csv',columns = ['Id','SalePrice'],index = False)\n"
   ]
  },
  {
   "cell_type": "code",
   "execution_count": null,
   "metadata": {},
   "outputs": [],
   "source": []
  }
 ],
 "metadata": {
  "kernelspec": {
   "display_name": "Python 3",
   "language": "python",
   "name": "python3"
  },
  "language_info": {
   "codemirror_mode": {
    "name": "ipython",
    "version": 3
   },
   "file_extension": ".py",
   "mimetype": "text/x-python",
   "name": "python",
   "nbconvert_exporter": "python",
   "pygments_lexer": "ipython3",
   "version": "3.6.5"
  }
 },
 "nbformat": 4,
 "nbformat_minor": 2
}
